{
  "nbformat": 4,
  "nbformat_minor": 0,
  "metadata": {
    "colab": {
      "provenance": [],
      "authorship_tag": "ABX9TyPPmLyzwGw5CejfAB4OAVkY",
      "include_colab_link": true
    },
    "kernelspec": {
      "name": "python3",
      "display_name": "Python 3"
    },
    "language_info": {
      "name": "python"
    }
  },
  "cells": [
    {
      "cell_type": "markdown",
      "metadata": {
        "id": "view-in-github",
        "colab_type": "text"
      },
      "source": [
        "<a href=\"https://colab.research.google.com/github/AbrahamCaiquo/alx-pre_course/blob/master/Untitled2.ipynb\" target=\"_parent\"><img src=\"https://colab.research.google.com/assets/colab-badge.svg\" alt=\"Open In Colab\"/></a>"
      ]
    },
    {
      "cell_type": "code",
      "execution_count": 1,
      "metadata": {
        "colab": {
          "base_uri": "https://localhost:8080/"
        },
        "id": "LbbBZ3baiZCO",
        "outputId": "2f4dd711-0910-4fbc-a841-0dc05be2f85c"
      },
      "outputs": [
        {
          "output_type": "stream",
          "name": "stdout",
          "text": [
            "Mounted at /content/drive\n"
          ]
        }
      ],
      "source": [
        "from google.colab import drive\n",
        "drive.mount('/content/drive')\n"
      ]
    },
    {
      "cell_type": "code",
      "source": [
        "import pandas as pd\n",
        "\n",
        "# File path to the CSV file (even though it's named .xls)\n",
        "file_path = '/content/drive/My Drive/EURUSD_first_10_rows.xls'\n",
        "\n",
        "# Reading the CSV file\n",
        "df = pd.read_csv(file_path)\n",
        "\n",
        "# Display the last 10 rows\n",
        "print(df.tail(10))\n"
      ],
      "metadata": {
        "colab": {
          "base_uri": "https://localhost:8080/"
        },
        "id": "gmrDnkW7jY0Z",
        "outputId": "5367145d-1baf-4fc7-cfd2-45971e329739"
      },
      "execution_count": 3,
      "outputs": [
        {
          "output_type": "stream",
          "name": "stdout",
          "text": [
            "                 Close                High                 Low  \\\n",
            "1     1.19650137424469  1.2040069103240967   1.194400668144226   \n",
            "2   1.2088974714279175  1.2109030485153198  1.1946003437042236   \n",
            "3   1.2122975587844849   1.213003396987915  1.2077003717422485   \n",
            "4   1.2080942392349243  1.2144027948379517  1.2043983936309814   \n",
            "5   1.2186946868896484  1.2190959453582764  1.2065927982330322   \n",
            "6   1.2220009565353394  1.2240052223205566  1.2154065370559692   \n",
            "7   1.2249947786331177  1.2277017831802368  1.2197948694229126   \n",
            "8   1.2190959453582764   1.226602554321289  1.2162047624588013   \n",
            "9   1.2224042415618896  1.2234959602355957  1.2122975587844849   \n",
            "10  1.2278977632522583  1.2306026220321655  1.2212995290756226   \n",
            "\n",
            "                  Open Volume  \n",
            "1     1.20339834690094      0  \n",
            "2   1.1961007118225098      0  \n",
            "3    1.208999752998352      0  \n",
            "4   1.2120037078857422      0  \n",
            "5    1.207802414894104      0  \n",
            "6   1.2167967557907104      0  \n",
            "7   1.2221053838729858      0  \n",
            "8   1.2249047756195068      0  \n",
            "9   1.2190959453582764      0  \n",
            "10  1.2227030992507935      0  \n"
          ]
        }
      ]
    }
  ]
}